{
 "cells": [
  {
   "cell_type": "code",
   "execution_count": 1,
   "id": "11f24d29",
   "metadata": {},
   "outputs": [
    {
     "name": "stderr",
     "output_type": "stream",
     "text": [
      "C:\\Users\\EMRE\\AppData\\Local\\Temp\\ipykernel_11368\\2292363210.py:60: SettingWithCopyWarning: \n",
      "A value is trying to be set on a copy of a slice from a DataFrame.\n",
      "Try using .loc[row_indexer,col_indexer] = value instead\n",
      "\n",
      "See the caveats in the documentation: https://pandas.pydata.org/pandas-docs/stable/user_guide/indexing.html#returning-a-view-versus-a-copy\n",
      "  dfr[\"Turnike_Yogunluk\"] = dfr[\"NetGiris\"] + dfr[\"NetOut\"]\n"
     ]
    },
    {
     "data": {
      "text/html": [
       "<div>\n",
       "<style scoped>\n",
       "    .dataframe tbody tr th:only-of-type {\n",
       "        vertical-align: middle;\n",
       "    }\n",
       "\n",
       "    .dataframe tbody tr th {\n",
       "        vertical-align: top;\n",
       "    }\n",
       "\n",
       "    .dataframe thead th {\n",
       "        text-align: right;\n",
       "    }\n",
       "</style>\n",
       "<table border=\"1\" class=\"dataframe\">\n",
       "  <thead>\n",
       "    <tr style=\"text-align: right;\">\n",
       "      <th></th>\n",
       "      <th>Station</th>\n",
       "      <th>Division</th>\n",
       "      <th>Date</th>\n",
       "      <th>Time</th>\n",
       "      <th>Description</th>\n",
       "      <th>Entries</th>\n",
       "      <th>Exits</th>\n",
       "      <th>datetime</th>\n",
       "      <th>Day</th>\n",
       "      <th>Month</th>\n",
       "      <th>Turnike</th>\n",
       "      <th>NetGiris</th>\n",
       "      <th>NetOut</th>\n",
       "      <th>Turnike_Yogunluk</th>\n",
       "    </tr>\n",
       "  </thead>\n",
       "  <tbody>\n",
       "    <tr>\n",
       "      <th>4332102</th>\n",
       "      <td>E 143/ST MARY'S</td>\n",
       "      <td>IRT</td>\n",
       "      <td>03/01/2021</td>\n",
       "      <td>00:00:00</td>\n",
       "      <td>REGULAR</td>\n",
       "      <td>590087</td>\n",
       "      <td>3314072</td>\n",
       "      <td>2021-03-01 00:00:00</td>\n",
       "      <td>Monday</td>\n",
       "      <td>March</td>\n",
       "      <td>R407R44801-00-02</td>\n",
       "      <td>0.0</td>\n",
       "      <td>7.0</td>\n",
       "      <td>7.0</td>\n",
       "    </tr>\n",
       "    <tr>\n",
       "      <th>4332204</th>\n",
       "      <td>HUNTS POINT AV</td>\n",
       "      <td>IRT</td>\n",
       "      <td>03/01/2021</td>\n",
       "      <td>00:00:00</td>\n",
       "      <td>REGULAR</td>\n",
       "      <td>4386628</td>\n",
       "      <td>6874192</td>\n",
       "      <td>2021-03-01 00:00:00</td>\n",
       "      <td>Monday</td>\n",
       "      <td>March</td>\n",
       "      <td>R412R14600-03-00</td>\n",
       "      <td>1.0</td>\n",
       "      <td>26.0</td>\n",
       "      <td>27.0</td>\n",
       "    </tr>\n",
       "    <tr>\n",
       "      <th>4314784</th>\n",
       "      <td>W 4 ST-WASH SQ</td>\n",
       "      <td>IND</td>\n",
       "      <td>03/01/2021</td>\n",
       "      <td>00:00:00</td>\n",
       "      <td>REGULAR</td>\n",
       "      <td>458975</td>\n",
       "      <td>0</td>\n",
       "      <td>2021-03-01 00:00:00</td>\n",
       "      <td>Monday</td>\n",
       "      <td>March</td>\n",
       "      <td>N083R13801-05-00</td>\n",
       "      <td>0.0</td>\n",
       "      <td>0.0</td>\n",
       "      <td>0.0</td>\n",
       "    </tr>\n",
       "    <tr>\n",
       "      <th>4308980</th>\n",
       "      <td>SHEEPSHEAD BAY</td>\n",
       "      <td>BMT</td>\n",
       "      <td>03/01/2021</td>\n",
       "      <td>00:00:00</td>\n",
       "      <td>REGULAR</td>\n",
       "      <td>2090501</td>\n",
       "      <td>240553</td>\n",
       "      <td>2021-03-01 00:00:00</td>\n",
       "      <td>Monday</td>\n",
       "      <td>March</td>\n",
       "      <td>B028R13601-00-00</td>\n",
       "      <td>2.0</td>\n",
       "      <td>9.0</td>\n",
       "      <td>11.0</td>\n",
       "    </tr>\n",
       "    <tr>\n",
       "      <th>4332096</th>\n",
       "      <td>E 143/ST MARY'S</td>\n",
       "      <td>IRT</td>\n",
       "      <td>03/01/2021</td>\n",
       "      <td>00:00:00</td>\n",
       "      <td>REGULAR</td>\n",
       "      <td>241158</td>\n",
       "      <td>632027</td>\n",
       "      <td>2021-03-01 00:00:00</td>\n",
       "      <td>Monday</td>\n",
       "      <td>March</td>\n",
       "      <td>R407R44801-00-01</td>\n",
       "      <td>1.0</td>\n",
       "      <td>1.0</td>\n",
       "      <td>2.0</td>\n",
       "    </tr>\n",
       "    <tr>\n",
       "      <th>...</th>\n",
       "      <td>...</td>\n",
       "      <td>...</td>\n",
       "      <td>...</td>\n",
       "      <td>...</td>\n",
       "      <td>...</td>\n",
       "      <td>...</td>\n",
       "      <td>...</td>\n",
       "      <td>...</td>\n",
       "      <td>...</td>\n",
       "      <td>...</td>\n",
       "      <td>...</td>\n",
       "      <td>...</td>\n",
       "      <td>...</td>\n",
       "      <td>...</td>\n",
       "    </tr>\n",
       "    <tr>\n",
       "      <th>2441018</th>\n",
       "      <td>GROVE STREET</td>\n",
       "      <td>PTH</td>\n",
       "      <td>05/31/2021</td>\n",
       "      <td>23:57:13</td>\n",
       "      <td>REGULAR</td>\n",
       "      <td>422695</td>\n",
       "      <td>127990</td>\n",
       "      <td>2021-05-31 23:57:13</td>\n",
       "      <td>Monday</td>\n",
       "      <td>May</td>\n",
       "      <td>PTH04R55100-00-00</td>\n",
       "      <td>5.0</td>\n",
       "      <td>2.0</td>\n",
       "      <td>7.0</td>\n",
       "    </tr>\n",
       "    <tr>\n",
       "      <th>2442365</th>\n",
       "      <td>PATH NEW WTC</td>\n",
       "      <td>PTH</td>\n",
       "      <td>05/31/2021</td>\n",
       "      <td>23:57:40</td>\n",
       "      <td>REGULAR</td>\n",
       "      <td>78753</td>\n",
       "      <td>85875</td>\n",
       "      <td>2021-05-31 23:57:40</td>\n",
       "      <td>Monday</td>\n",
       "      <td>May</td>\n",
       "      <td>PTH22R54000-02-02</td>\n",
       "      <td>2.0</td>\n",
       "      <td>8.0</td>\n",
       "      <td>10.0</td>\n",
       "    </tr>\n",
       "    <tr>\n",
       "      <th>2441743</th>\n",
       "      <td>LACKAWANNA</td>\n",
       "      <td>PTH</td>\n",
       "      <td>05/31/2021</td>\n",
       "      <td>23:58:54</td>\n",
       "      <td>REGULAR</td>\n",
       "      <td>54825</td>\n",
       "      <td>25149</td>\n",
       "      <td>2021-05-31 23:58:54</td>\n",
       "      <td>Monday</td>\n",
       "      <td>May</td>\n",
       "      <td>PTH16R55001-00-08</td>\n",
       "      <td>1.0</td>\n",
       "      <td>0.0</td>\n",
       "      <td>1.0</td>\n",
       "    </tr>\n",
       "    <tr>\n",
       "      <th>2441626</th>\n",
       "      <td>THIRTY ST</td>\n",
       "      <td>PTH</td>\n",
       "      <td>05/31/2021</td>\n",
       "      <td>23:59:31</td>\n",
       "      <td>REGULAR</td>\n",
       "      <td>19375</td>\n",
       "      <td>26950</td>\n",
       "      <td>2021-05-31 23:59:31</td>\n",
       "      <td>Monday</td>\n",
       "      <td>May</td>\n",
       "      <td>PTH13R54100-00-05</td>\n",
       "      <td>0.0</td>\n",
       "      <td>0.0</td>\n",
       "      <td>0.0</td>\n",
       "    </tr>\n",
       "    <tr>\n",
       "      <th>2442172</th>\n",
       "      <td>NEWARK HM HE</td>\n",
       "      <td>PTH</td>\n",
       "      <td>05/31/2021</td>\n",
       "      <td>23:59:47</td>\n",
       "      <td>REGULAR</td>\n",
       "      <td>24975</td>\n",
       "      <td>181371</td>\n",
       "      <td>2021-05-31 23:59:47</td>\n",
       "      <td>Monday</td>\n",
       "      <td>May</td>\n",
       "      <td>PTH20R54903-00-06</td>\n",
       "      <td>0.0</td>\n",
       "      <td>0.0</td>\n",
       "      <td>0.0</td>\n",
       "    </tr>\n",
       "  </tbody>\n",
       "</table>\n",
       "<p>1905727 rows × 14 columns</p>\n",
       "</div>"
      ],
      "text/plain": [
       "                 Station Division        Date      Time Description  Entries  \\\n",
       "4332102  E 143/ST MARY'S      IRT  03/01/2021  00:00:00     REGULAR   590087   \n",
       "4332204   HUNTS POINT AV      IRT  03/01/2021  00:00:00     REGULAR  4386628   \n",
       "4314784   W 4 ST-WASH SQ      IND  03/01/2021  00:00:00     REGULAR   458975   \n",
       "4308980   SHEEPSHEAD BAY      BMT  03/01/2021  00:00:00     REGULAR  2090501   \n",
       "4332096  E 143/ST MARY'S      IRT  03/01/2021  00:00:00     REGULAR   241158   \n",
       "...                  ...      ...         ...       ...         ...      ...   \n",
       "2441018     GROVE STREET      PTH  05/31/2021  23:57:13     REGULAR   422695   \n",
       "2442365     PATH NEW WTC      PTH  05/31/2021  23:57:40     REGULAR    78753   \n",
       "2441743       LACKAWANNA      PTH  05/31/2021  23:58:54     REGULAR    54825   \n",
       "2441626        THIRTY ST      PTH  05/31/2021  23:59:31     REGULAR    19375   \n",
       "2442172     NEWARK HM HE      PTH  05/31/2021  23:59:47     REGULAR    24975   \n",
       "\n",
       "           Exits            datetime     Day  Month            Turnike  \\\n",
       "4332102  3314072 2021-03-01 00:00:00  Monday  March   R407R44801-00-02   \n",
       "4332204  6874192 2021-03-01 00:00:00  Monday  March   R412R14600-03-00   \n",
       "4314784        0 2021-03-01 00:00:00  Monday  March   N083R13801-05-00   \n",
       "4308980   240553 2021-03-01 00:00:00  Monday  March   B028R13601-00-00   \n",
       "4332096   632027 2021-03-01 00:00:00  Monday  March   R407R44801-00-01   \n",
       "...          ...                 ...     ...    ...                ...   \n",
       "2441018   127990 2021-05-31 23:57:13  Monday    May  PTH04R55100-00-00   \n",
       "2442365    85875 2021-05-31 23:57:40  Monday    May  PTH22R54000-02-02   \n",
       "2441743    25149 2021-05-31 23:58:54  Monday    May  PTH16R55001-00-08   \n",
       "2441626    26950 2021-05-31 23:59:31  Monday    May  PTH13R54100-00-05   \n",
       "2442172   181371 2021-05-31 23:59:47  Monday    May  PTH20R54903-00-06   \n",
       "\n",
       "         NetGiris  NetOut  Turnike_Yogunluk  \n",
       "4332102       0.0     7.0               7.0  \n",
       "4332204       1.0    26.0              27.0  \n",
       "4314784       0.0     0.0               0.0  \n",
       "4308980       2.0     9.0              11.0  \n",
       "4332096       1.0     1.0               2.0  \n",
       "...           ...     ...               ...  \n",
       "2441018       5.0     2.0               7.0  \n",
       "2442365       2.0     8.0              10.0  \n",
       "2441743       1.0     0.0               1.0  \n",
       "2441626       0.0     0.0               0.0  \n",
       "2442172       0.0     0.0               0.0  \n",
       "\n",
       "[1905727 rows x 14 columns]"
      ]
     },
     "execution_count": 1,
     "metadata": {},
     "output_type": "execute_result"
    }
   ],
   "source": [
    "import pandas as pd\n",
    "import numpy as np\n",
    "import seaborn as sns\n",
    "import matplotlib.pyplot as plt\n",
    "import datetime as dt\n",
    "\n",
    "\n",
    "\n",
    "hamdata = pd.read_csv(\"Turnstile_Usage_Data__2021.csv\", sep=\",\")\n",
    "#print(hamdata.info())\n",
    "\n",
    "ilkdraft = hamdata.copy()\n",
    "\n",
    "ilkdraft.drop(\"Line Name\", axis = 1, inplace = True)\n",
    "ilkdraft['datetime'] = pd.to_datetime(ilkdraft['Date']+' '+ilkdraft['Time'])\n",
    "ilkdraft['Day'] = pd.to_datetime(ilkdraft['Date']).dt.day_name()\n",
    "ilkdraft['Month'] = pd.to_datetime(ilkdraft['Date']).dt.month_name()\n",
    "ilkdraft.rename(columns={\"C/A\" : \"CA\"} , inplace=True)\n",
    "ilkdraft[\"Turnike\"] = ilkdraft[\"CA\"] + ilkdraft[\"Unit\"] + ilkdraft[\"SCP\"]\n",
    "ilkdraft.drop(\"CA\", axis=1, inplace = True)\n",
    "ilkdraft.drop(\"Unit\", axis=1, inplace = True)\n",
    "ilkdraft.drop(\"SCP\", axis=1, inplace = True)\n",
    "\n",
    "#print(ilkdraft.info())\n",
    "#print(ilkdraft.head(25))\n",
    "#print(ilkdraft.value_counts(\"Description\"))\n",
    "\n",
    "\n",
    "\n",
    "#for column_name in ilkdraft.columns:\n",
    "    #print(column_name,ilkdraft[column_name].nunique())\n",
    "\n",
    "#print(ilkdraft.loc[138900:138950])\n",
    "\n",
    "#print(ilkdraft[ilkdraft.duplicated(subset=['Turnike','Station','datetime'])])\n",
    "#print(ilkdraft.shape)\n",
    "ilkdraft.drop_duplicates(subset=['Turnike','Station','datetime'],inplace=True)\n",
    "#print(ilkdraft.shape)\n",
    "\n",
    "TData = ilkdraft.copy()  #TEMİZ DATA ->> TD\n",
    "#print(TD.describe())\n",
    "\n",
    "TData.sort_values(by='datetime',ascending=True, inplace=True)\n",
    "TData.rename(columns=lambda x: x.strip())\n",
    "TData.columns = TData.columns.str.replace(' ', '')\n",
    "\n",
    "TData[\"NetGiris\"] = (TData.groupby(['Station','Turnike'])['Entries'].shift(-1)-TData.groupby(['Station','Turnike'])['Entries'].shift(0))\n",
    "TData[\"NetOut\"] = (TData.groupby(['Station','Turnike'])['Exits'].shift(-1)-TData.groupby(['Station','Turnike'])['Exits'].shift(0))\n",
    "#print(TData.head(20))\n",
    "#print(TData.info())\n",
    "#print(TData.value_counts(\"NetGiris\"))\n",
    "#print(TData.value_counts(\"NetOut\"))\n",
    "#print(TData.describe())\n",
    "#plt.scatter(x='datetime',y='NetGiris',data=TData[TData['Month'] == 'April'])\n",
    "#plt.show()\n",
    "\n",
    "\n",
    "dfr = TData.loc[(TData.Description == 'REGULAR') & ((TData.Month == 'May')|(TData.Month == 'April')|(TData.Month == 'March'))]\n",
    "\n",
    "dfr[\"Turnike_Yogunluk\"] = dfr[\"NetGiris\"] + dfr[\"NetOut\"]\n",
    "\n",
    "#print(dfr.value_counts(\"NetGiris\"))\n",
    "#print(dfr.value_counts(\"NetOut\"))\n",
    "#print(dfr.value_counts(\"Turnike_Yogunluk\"))\n",
    "\n",
    "#plt.figure(figsize=[25,25])\n",
    "#plt.plot\n",
    "#plt.plot(dfr.datetime,dfr.NetGiris,data=((dfr.Turnike == \"PTH07R55000-01-06\") & (dfr.Month == \"May\") & (dfr.Station == \"CITY / BUS\")))\n",
    "#plt.scatter(x='datetime',y='NetGiris',data=dfr[dfr['Month'] == 'March'])\n",
    "#plt.scatter(x='datetime',y='NetGiris',data=dfr[dfr['Month'] == 'April'])\n",
    "#plt.show()\n",
    "\n",
    "dfr"
   ]
  },
  {
   "cell_type": "code",
   "execution_count": 2,
   "id": "4fd0032f",
   "metadata": {},
   "outputs": [
    {
     "data": {
      "text/plain": [
       "(6973, 14)"
      ]
     },
     "execution_count": 2,
     "metadata": {},
     "output_type": "execute_result"
    }
   ],
   "source": [
    "bozuk = dfr.loc[(dfr.NetGiris < 0) & (dfr.NetOut < 0) & (dfr.Turnike_Yogunluk < 0)]\n",
    "bozuk.shape"
   ]
  },
  {
   "cell_type": "code",
   "execution_count": 3,
   "id": "88054aaa",
   "metadata": {},
   "outputs": [
    {
     "data": {
      "text/plain": [
       "(16383, 14)"
      ]
     },
     "execution_count": 3,
     "metadata": {},
     "output_type": "execute_result"
    }
   ],
   "source": [
    "bozuk1 = dfr.loc[(dfr.NetGiris < 0)]\n",
    "bozuk1.shape"
   ]
  },
  {
   "cell_type": "code",
   "execution_count": 4,
   "id": "d36425af",
   "metadata": {},
   "outputs": [
    {
     "data": {
      "text/plain": [
       "(11675, 14)"
      ]
     },
     "execution_count": 4,
     "metadata": {},
     "output_type": "execute_result"
    }
   ],
   "source": [
    "bozuk2 = dfr.loc[(dfr.NetOut < 0)]\n",
    "bozuk2.shape"
   ]
  },
  {
   "cell_type": "code",
   "execution_count": 5,
   "id": "0cb8ad95",
   "metadata": {},
   "outputs": [
    {
     "data": {
      "text/plain": [
       "(15630, 14)"
      ]
     },
     "execution_count": 5,
     "metadata": {},
     "output_type": "execute_result"
    }
   ],
   "source": [
    "bozuk3 = dfr.loc[(dfr.Turnike_Yogunluk < 0)]\n",
    "bozuk3.shape"
   ]
  },
  {
   "cell_type": "code",
   "execution_count": 6,
   "id": "0503ca4b",
   "metadata": {},
   "outputs": [
    {
     "data": {
      "text/plain": [
       "(1884619, 14)"
      ]
     },
     "execution_count": 6,
     "metadata": {},
     "output_type": "execute_result"
    }
   ],
   "source": [
    "df1 = dfr.loc[(dfr.NetGiris >= 0)]\n",
    "df2 = df1.loc[(df1.NetOut >= 0)]\n",
    "df3 = df2.loc[(df2.Turnike_Yogunluk >= 0)]\n",
    "df3.shape"
   ]
  },
  {
   "cell_type": "code",
   "execution_count": 7,
   "id": "a9b091e9",
   "metadata": {},
   "outputs": [],
   "source": [
    "df4 = df3.loc[(df3.NetGiris < 1700)]\n",
    "df5 = df4.loc[(df4.NetGiris < 1700)]"
   ]
  },
  {
   "cell_type": "code",
   "execution_count": 8,
   "id": "e8dfd402",
   "metadata": {},
   "outputs": [
    {
     "data": {
      "text/plain": [
       "(1878573, 14)"
      ]
     },
     "execution_count": 8,
     "metadata": {},
     "output_type": "execute_result"
    }
   ],
   "source": [
    "df5.shape"
   ]
  },
  {
   "cell_type": "code",
   "execution_count": 9,
   "id": "40370071",
   "metadata": {},
   "outputs": [
    {
     "data": {
      "text/plain": [
       "NetGiris\n",
       "0.0       349162\n",
       "1.0        72917\n",
       "2.0        56986\n",
       "3.0        47891\n",
       "4.0        41498\n",
       "           ...  \n",
       "1409.0         1\n",
       "1408.0         1\n",
       "1407.0         1\n",
       "1151.0         1\n",
       "1698.0         1\n",
       "Length: 1517, dtype: int64"
      ]
     },
     "execution_count": 9,
     "metadata": {},
     "output_type": "execute_result"
    }
   ],
   "source": [
    "df5.value_counts(\"NetGiris\")"
   ]
  },
  {
   "cell_type": "code",
   "execution_count": 10,
   "id": "e11eb96f",
   "metadata": {},
   "outputs": [
    {
     "data": {
      "text/plain": [
       "Day\n",
       "Friday       160.295136\n",
       "Monday       119.540993\n",
       "Saturday      91.159538\n",
       "Sunday        66.378910\n",
       "Thursday     127.197362\n",
       "Tuesday      130.983127\n",
       "Wednesday    127.605960\n",
       "Name: Turnike_Yogunluk, dtype: float64"
      ]
     },
     "execution_count": 10,
     "metadata": {},
     "output_type": "execute_result"
    }
   ],
   "source": [
    "df5.groupby([\"Day\"])[\"Turnike_Yogunluk\"].mean()"
   ]
  },
  {
   "cell_type": "code",
   "execution_count": 11,
   "id": "c62fd7db",
   "metadata": {},
   "outputs": [
    {
     "data": {
      "text/plain": [
       "Hour\n",
       "0      14.101725\n",
       "1       8.275572\n",
       "2      34.490521\n",
       "3      51.864051\n",
       "4      92.934116\n",
       "5     124.223967\n",
       "6     168.630824\n",
       "7     152.778510\n",
       "8     153.200250\n",
       "9     123.211507\n",
       "10    125.102203\n",
       "11    120.268648\n",
       "12    174.041936\n",
       "13    181.285017\n",
       "14    166.418722\n",
       "15    191.284075\n",
       "16    202.997939\n",
       "17    155.154984\n",
       "18     91.648790\n",
       "19     79.092656\n",
       "20     99.904216\n",
       "21     72.719091\n",
       "22     61.041721\n",
       "23    101.228727\n",
       "Name: Turnike_Yogunluk, dtype: float64"
      ]
     },
     "execution_count": 11,
     "metadata": {},
     "output_type": "execute_result"
    }
   ],
   "source": [
    "df5['Hour'] = pd.to_datetime(df5['datetime']).dt.hour\n",
    "df5.groupby([\"Hour\"])[\"Turnike_Yogunluk\"].mean()"
   ]
  },
  {
   "cell_type": "code",
   "execution_count": 12,
   "id": "377342a3",
   "metadata": {},
   "outputs": [
    {
     "data": {
      "image/png": "[encoded data removed]",
      "text/plain": [
       "<Figure size 1080x576 with 1 Axes>"
      ]
     },
     "metadata": {
      "needs_background": "light"
     },
     "output_type": "display_data"
    }
   ],
   "source": [
    "st_y = df5.groupby([\"Station\"])[\"Turnike_Yogunluk\"].mean()\n",
    "gün_y = pd.DataFrame(df5.groupby(\"Day\")[\"Turnike_Yogunluk\"].mean().sort_values(ascending=True))\n",
    "plt.figure(figsize=[15,8]);\n",
    "plt.bar(gün_y.index, gün_y.Turnike_Yogunluk);\n",
    "plt.xticks(rotation=45, ha='right');"
   ]
  },
  {
   "cell_type": "code",
   "execution_count": 13,
   "id": "e60543ab",
   "metadata": {},
   "outputs": [
    {
     "data": {
      "image/png": "[encoded data removed]",
      "text/plain": [
       "<Figure size 1080x576 with 1 Axes>"
      ]
     },
     "metadata": {
      "needs_background": "light"
     },
     "output_type": "display_data"
    }
   ],
   "source": [
    "st_y = pd.DataFrame(df5.groupby(\"Station\")[\"Turnike_Yogunluk\"].mean().sort_values(ascending=True))\n",
    "st_y.dropna(inplace=True)\n",
    "station_y = st_y.tail(10)\n",
    "plt.figure(figsize=[15,8]);\n",
    "plt.bar(station_y.index, station_y.Turnike_Yogunluk);\n",
    "plt.xticks(rotation=45, ha='right');"
   ]
  },
  {
   "cell_type": "code",
   "execution_count": 14,
   "id": "f131c819",
   "metadata": {},
   "outputs": [
    {
     "data": {
      "image/png": "[encoded data removed]",
      "text/plain": [
       "<Figure size 1080x576 with 1 Axes>"
      ]
     },
     "metadata": {
      "needs_background": "light"
     },
     "output_type": "display_data"
    }
   ],
   "source": [
    "time_y = pd.DataFrame(df5.groupby(\"Hour\")[\"Turnike_Yogunluk\"].mean().sort_values(ascending=True))\n",
    "plt.figure(figsize=[15,8]);\n",
    "plt.bar(time_y.index, time_y.Turnike_Yogunluk);\n",
    "plt.xticks(rotation=45, ha='right');"
   ]
  }
 ],
 "metadata": {
  "kernelspec": {
   "display_name": "Python 3 (ipykernel)",
   "language": "python",
   "name": "python3"
  },
  "language_info": {
   "codemirror_mode": {
    "name": "ipython",
    "version": 3
   },
   "file_extension": ".py",
   "mimetype": "text/x-python",
   "name": "python",
   "nbconvert_exporter": "python",
   "pygments_lexer": "ipython3",
   "version": "3.9.12"
  }
 },
 "nbformat": 4,
 "nbformat_minor": 5
}
